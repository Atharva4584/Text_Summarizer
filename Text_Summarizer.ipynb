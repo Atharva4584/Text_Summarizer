{
  "nbformat": 4,
  "nbformat_minor": 0,
  "metadata": {
    "colab": {
      "name": "Text Summarizer",
      "provenance": []
    },
    "kernelspec": {
      "name": "python3",
      "display_name": "Python 3"
    },
    "language_info": {
      "name": "python"
    }
  },
  "cells": [
    {
      "cell_type": "code",
      "execution_count": 1,
      "metadata": {
        "id": "l-R6UTEi30L3"
      },
      "outputs": [],
      "source": [
        "import nltk\n",
        "from nltk.corpus import stopwords\n",
        "from nltk.cluster.util import cosine_distance"
      ]
    },
    {
      "cell_type": "code",
      "source": [
        "import numpy as np\n",
        "import networkx as nx"
      ],
      "metadata": {
        "id": "98YwNgJE5fKM"
      },
      "execution_count": 2,
      "outputs": []
    },
    {
      "cell_type": "code",
      "source": [
        "file = open(\"/content/drive/MyDrive/summarize_text.txt\", \"r\")\n",
        "filedata = file.readlines()"
      ],
      "metadata": {
        "id": "T7wWvsjp5lnc"
      },
      "execution_count": 3,
      "outputs": []
    },
    {
      "cell_type": "code",
      "source": [
        "text = filedata[0].split(\". \")"
      ],
      "metadata": {
        "id": "aeFBsqvH8lMS"
      },
      "execution_count": 4,
      "outputs": []
    },
    {
      "cell_type": "code",
      "source": [
        "nltk.download(\"stopwords\")\n",
        "stop_words = stopwords.words('english')"
      ],
      "metadata": {
        "colab": {
          "base_uri": "https://localhost:8080/"
        },
        "id": "qL3LN-0oPjcq",
        "outputId": "10021022-04d7-4f8b-d220-cc509ae27fca"
      },
      "execution_count": 5,
      "outputs": [
        {
          "output_type": "stream",
          "name": "stdout",
          "text": [
            "[nltk_data] Downloading package stopwords to /root/nltk_data...\n",
            "[nltk_data]   Package stopwords is already up-to-date!\n"
          ]
        }
      ]
    },
    {
      "cell_type": "code",
      "source": [
        "sentences = []\n",
        "for sentence in text:\n",
        "  sentences.append(sentence.replace(\"[^a-zA-Z]\", \" \").split(\" \"))\n",
        "sentences.pop()"
      ],
      "metadata": {
        "colab": {
          "base_uri": "https://localhost:8080/"
        },
        "id": "kQMmUCmK92TR",
        "outputId": "3dc59c4c-f651-49d5-cad8-a070bad970d2"
      },
      "execution_count": 6,
      "outputs": [
        {
          "output_type": "execute_result",
          "data": {
            "text/plain": [
              "['20th', 'Air', 'Force', 'during', 'World', 'War', 'II.']"
            ]
          },
          "metadata": {},
          "execution_count": 6
        }
      ]
    },
    {
      "cell_type": "code",
      "source": [
        "similarity_matrix = np.zeros((len(sentences), len(sentences)))\n",
        "for i in range (len(sentences)):\n",
        "  for j in range (len(sentences)):\n",
        "    if i != j:\n",
        "      sent1 = [w.lower() for w in sentences[i]]\n",
        "      sent2 = [w.lower() for w in sentences[j]]\n",
        "\n",
        "      all_words = list(set(sent1 + sent2))\n",
        "\n",
        "      v1 = [0] * len(all_words)\n",
        "      v2 = [0] * len(all_words)\n",
        "\n",
        "      for w in sent1:\n",
        "        if w not in stop_words:\n",
        "          v1[all_words.index(w)] += 1\n",
        "\n",
        "      for w in sent2:\n",
        "        if w not in stop_words:\n",
        "          v2[all_words.index(w)] += 1\n",
        "      \n",
        "      similarity_matrix[i][j] = 1 - cosine_distance(v1, v2)"
      ],
      "metadata": {
        "id": "iaGldxIGPzbq"
      },
      "execution_count": 7,
      "outputs": []
    },
    {
      "cell_type": "code",
      "source": [
        "sentence_similarity_graph = nx.from_numpy_array(similarity_matrix)\n",
        "scores = nx.pagerank(sentence_similarity_graph)"
      ],
      "metadata": {
        "id": "WCopwZnJllCk"
      },
      "execution_count": 8,
      "outputs": []
    },
    {
      "cell_type": "code",
      "source": [
        "ranked_sentence = sorted(((scores[i],s) for i,s in enumerate(sentences)), reverse=True)"
      ],
      "metadata": {
        "id": "AzuAMxf5m6Nx"
      },
      "execution_count": 9,
      "outputs": []
    },
    {
      "cell_type": "code",
      "source": [
        "summarize_text = []\n",
        "for i in range(int(len(sentences)/2)):\n",
        "  summarize_text.append(\" \".join(ranked_sentence[i][1]))"
      ],
      "metadata": {
        "id": "g09uN-kzoKuQ"
      },
      "execution_count": 10,
      "outputs": []
    },
    {
      "cell_type": "code",
      "source": [
        "print(\"Summarize Text: \\n\", \". \".join(summarize_text))"
      ],
      "metadata": {
        "colab": {
          "base_uri": "https://localhost:8080/"
        },
        "id": "4yRPgk-zod3W",
        "outputId": "787b0f97-f849-4882-c5e8-2c08ed385283"
      },
      "execution_count": 11,
      "outputs": [
        {
          "output_type": "stream",
          "name": "stdout",
          "text": [
            "Summarize Text: \n",
            " The first Indian Institute of Technology was thus established in May 1950 as the Eastern Higher Technical Institute. IIT Kharagpur is the 4th oldest technical institute in the West Bengal state after Indian Institute of Engineering Science and Technology Shibpur (established as B.E. Indian Institute of Technology Kharagpur (IIT Kharagpur) is a public technical university established by the government of India in Kharagpur, West Bengal, India. Established in 1951, the institute is the first of the IITs to be established and is recognized as an Institute of National Importance. In its interim report, the Sarkar Committee recommended the establishment of higher technical institutions in India, along the lines of the Massachusetts Institute of Technology and consulting from the University of Illinois at Urbana–Champaign along with affiliated secondary institutions. The institute was initially established to train engineers after India attained independence in 1947. College in 1856), Jadavpur University (established as Bengal technical institute in 1906), and Rajabazar Science College (established as Calcutta University campus for Science and Technology in 1914). In 2019 it was awarded the status of Institute of Eminence by the Government of India. On the grounds that West Bengal had the highest concentration of industries at the time, Bidhan Chandra Roy, the Chief Minister of West Bengal, persuaded Jawaharlal Nehru (India's first prime minister) to establish the first institute in West Bengal\n"
          ]
        }
      ]
    },
    {
      "cell_type": "code",
      "source": [
        "nx.draw_spring(sentence_similarity_graph, with_labels = True)"
      ],
      "metadata": {
        "colab": {
          "base_uri": "https://localhost:8080/",
          "height": 319
        },
        "id": "gQBlEAQw1NLe",
        "outputId": "03703fe9-c93b-480c-a8b6-4de54bd276b2"
      },
      "execution_count": 12,
      "outputs": [
        {
          "output_type": "display_data",
          "data": {
            "text/plain": [
              "<Figure size 432x288 with 1 Axes>"
            ],
            "image/png": "[encoded data removed]"
          },
          "metadata": {}
        }
      ]
    },
    {
      "cell_type": "code",
      "source": [
        "print(similarity_matrix)"
      ],
      "metadata": {
        "colab": {
          "base_uri": "https://localhost:8080/"
        },
        "id": "xNiePu-d1Qc6",
        "outputId": "977e20c1-0e32-4a8c-a47f-ba644bf12f77"
      },
      "execution_count": 13,
      "outputs": [
        {
          "output_type": "stream",
          "name": "stdout",
          "text": [
            "[[0.         0.25197632 0.35634832 0.31426968 0.         0.08908708\n",
            "  0.05025189 0.         0.18144368 0.06085806 0.19641855 0.37796447\n",
            "  0.05555556 0.06804138 0.37851665 0.22680461 0.06804138 0.\n",
            "  0.        ]\n",
            " [0.25197632 0.         0.20203051 0.35634832 0.         0.\n",
            "  0.         0.         0.1028689  0.         0.17817416 0.5\n",
            "  0.         0.         0.24525574 0.1028689  0.3086067  0.\n",
            "  0.        ]\n",
            " [0.35634832 0.20203051 0.         0.25197632 0.         0.\n",
            "  0.         0.         0.0727393  0.         0.06299408 0.20203051\n",
            "  0.         0.         0.17342199 0.0727393  0.10910895 0.\n",
            "  0.        ]\n",
            " [0.31426968 0.35634832 0.25197632 0.         0.         0.\n",
            "  0.         0.         0.06415003 0.         0.05555556 0.26726124\n",
            "  0.         0.09622504 0.15294382 0.06415003 0.09622504 0.\n",
            "  0.        ]\n",
            " [0.         0.         0.         0.         0.         0.\n",
            "  0.         0.         0.         0.         0.         0.\n",
            "  0.         0.         0.         0.         0.         0.\n",
            "  0.        ]\n",
            " [0.08908708 0.         0.         0.         0.         0.\n",
            "  0.         0.         0.         0.         0.         0.\n",
            "  0.17817416 0.         0.17342199 0.0727393  0.         0.\n",
            "  0.        ]\n",
            " [0.05025189 0.         0.         0.         0.         0.\n",
            "  0.         0.15075567 0.20515248 0.05504819 0.         0.11396058\n",
            "  0.         0.         0.0489116  0.0410305  0.         0.\n",
            "  0.        ]\n",
            " [0.         0.         0.         0.         0.         0.\n",
            "  0.15075567 0.         0.13608276 0.         0.         0.\n",
            "  0.         0.         0.         0.         0.         0.\n",
            "  0.        ]\n",
            " [0.18144368 0.1028689  0.0727393  0.06415003 0.         0.\n",
            "  0.20515248 0.13608276 0.         0.1490712  0.03207501 0.25717225\n",
            "  0.         0.05555556 0.17660431 0.18518519 0.05555556 0.\n",
            "  0.        ]\n",
            " [0.06085806 0.         0.         0.         0.         0.\n",
            "  0.05504819 0.         0.1490712  0.         0.12909944 0.\n",
            "  0.         0.         0.05923489 0.         0.         0.\n",
            "  0.        ]\n",
            " [0.19641855 0.17817416 0.06299408 0.05555556 0.         0.\n",
            "  0.         0.         0.03207501 0.12909944 0.         0.17817416\n",
            "  0.         0.         0.26765169 0.09622504 0.14433757 0.\n",
            "  0.        ]\n",
            " [0.37796447 0.5        0.20203051 0.26726124 0.         0.\n",
            "  0.11396058 0.         0.25717225 0.         0.17817416 0.\n",
            "  0.06299408 0.07715167 0.42919754 0.2057378  0.23145502 0.\n",
            "  0.        ]\n",
            " [0.05555556 0.         0.         0.         0.         0.17817416\n",
            "  0.         0.         0.         0.         0.         0.06299408\n",
            "  0.         0.         0.05407381 0.04536092 0.         0.\n",
            "  0.        ]\n",
            " [0.06804138 0.         0.         0.09622504 0.         0.\n",
            "  0.         0.         0.05555556 0.         0.         0.07715167\n",
            "  0.         0.         0.06622662 0.         0.         0.44095855\n",
            "  0.        ]\n",
            " [0.37851665 0.24525574 0.17342199 0.15294382 0.         0.17342199\n",
            "  0.0489116  0.         0.17660431 0.05923489 0.26765169 0.42919754\n",
            "  0.05407381 0.06622662 0.         0.39735971 0.13245324 0.\n",
            "  0.        ]\n",
            " [0.22680461 0.1028689  0.0727393  0.06415003 0.         0.0727393\n",
            "  0.0410305  0.         0.18518519 0.         0.09622504 0.2057378\n",
            "  0.04536092 0.         0.39735971 0.         0.05555556 0.\n",
            "  0.        ]\n",
            " [0.06804138 0.3086067  0.10910895 0.09622504 0.         0.\n",
            "  0.         0.         0.05555556 0.         0.14433757 0.23145502\n",
            "  0.         0.         0.13245324 0.05555556 0.         0.\n",
            "  0.        ]\n",
            " [0.         0.         0.         0.         0.         0.\n",
            "  0.         0.         0.         0.         0.         0.\n",
            "  0.         0.44095855 0.         0.         0.         0.\n",
            "  0.16495722]\n",
            " [0.         0.         0.         0.         0.         0.\n",
            "  0.         0.         0.         0.         0.         0.\n",
            "  0.         0.         0.         0.         0.         0.16495722\n",
            "  0.        ]]\n"
          ]
        }
      ]
    },
    {
      "cell_type": "code",
      "source": [
        "print(scores)"
      ],
      "metadata": {
        "colab": {
          "base_uri": "https://localhost:8080/"
        },
        "id": "MSivilwJ1jU2",
        "outputId": "1004f50a-2cee-4863-f92a-b1d3579b87b9"
      },
      "execution_count": 14,
      "outputs": [
        {
          "output_type": "stream",
          "name": "stdout",
          "text": [
            "{0: 0.09977260246287674, 1: 0.08083125113283267, 2: 0.05641812184838618, 3: 0.06490607180499222, 4: 0.008264462809917356, 5: 0.028040617580887814, 6: 0.03518764865888735, 7: 0.01996792443499175, 8: 0.07124836676142166, 9: 0.024281894175250302, 10: 0.0528355495870584, 11: 0.10637311066937603, 12: 0.023498862434144258, 13: 0.049625492997165135, 14: 0.10366757480523792, 15: 0.06135513630244557, 16: 0.04656135333571855, 17: 0.04783203929074689, 18: 0.019331918907662754}\n"
          ]
        }
      ]
    },
    {
      "cell_type": "code",
      "source": [
        "print(ranked_sentence)"
      ],
      "metadata": {
        "colab": {
          "base_uri": "https://localhost:8080/"
        },
        "id": "hhIkKYnZkzRK",
        "outputId": "93f90017-f557-4646-cbea-21ff877288c5"
      },
      "execution_count": 15,
      "outputs": [
        {
          "output_type": "stream",
          "name": "stdout",
          "text": [
            "[(0.10637311066937603, ['The', 'first', 'Indian', 'Institute', 'of', 'Technology', 'was', 'thus', 'established', 'in', 'May', '1950', 'as', 'the', 'Eastern', 'Higher', 'Technical', 'Institute']), (0.10366757480523792, ['IIT', 'Kharagpur', 'is', 'the', '4th', 'oldest', 'technical', 'institute', 'in', 'the', 'West', 'Bengal', 'state', 'after', 'Indian', 'Institute', 'of', 'Engineering', 'Science', 'and', 'Technology', 'Shibpur', '(established', 'as', 'B.E']), (0.09977260246287674, ['Indian', 'Institute', 'of', 'Technology', 'Kharagpur', '(IIT', 'Kharagpur)', 'is', 'a', 'public', 'technical', 'university', 'established', 'by', 'the', 'government', 'of', 'India', 'in', 'Kharagpur,', 'West', 'Bengal,', 'India']), (0.08083125113283267, ['Established', 'in', '1951,', 'the', 'institute', 'is', 'the', 'first', 'of', 'the', 'IITs', 'to', 'be', 'established', 'and', 'is', 'recognized', 'as', 'an', 'Institute', 'of', 'National', 'Importance']), (0.07124836676142166, ['In', 'its', 'interim', 'report,', 'the', 'Sarkar', 'Committee', 'recommended', 'the', 'establishment', 'of', 'higher', 'technical', 'institutions', 'in', 'India,', 'along', 'the', 'lines', 'of', 'the', 'Massachusetts', 'Institute', 'of', 'Technology', 'and', 'consulting', 'from', 'the', 'University', 'of', 'Illinois', 'at', 'Urbana–Champaign', 'along', 'with', 'affiliated', 'secondary', 'institutions']), (0.06490607180499222, ['The', 'institute', 'was', 'initially', 'established', 'to', 'train', 'engineers', 'after', 'India', 'attained', 'independence', 'in', '1947']), (0.06135513630244557, ['College', 'in', '1856),', 'Jadavpur', 'University', '(established', 'as', 'Bengal', 'technical', 'institute', 'in', '1906),', 'and', 'Rajabazar', 'Science', 'College', '(established', 'as', 'Calcutta', 'University', 'campus', 'for', 'Science', 'and', 'Technology', 'in', '1914)']), (0.05641812184838618, ['In', '2019', 'it', 'was', 'awarded', 'the', 'status', 'of', 'Institute', 'of', 'Eminence', 'by', 'the', 'Government', 'of', 'India']), (0.0528355495870584, ['On', 'the', 'grounds', 'that', 'West', 'Bengal', 'had', 'the', 'highest', 'concentration', 'of', 'industries', 'at', 'the', 'time,', 'Bidhan', 'Chandra', 'Roy,', 'the', 'Chief', 'Minister', 'of', 'West', 'Bengal,', 'persuaded', 'Jawaharlal', 'Nehru', \"(India's\", 'first', 'prime', 'minister)', 'to', 'establish', 'the', 'first', 'institute', 'in', 'West', 'Bengal']), (0.049625492997165135, ['Hijli', 'had', 'been', 'used', 'as', 'a', 'detention', 'camp', 'during', 'the', 'period', 'of', 'British', 'rule', 'in', 'India,', 'where', 'Indian', 'independence', 'activists', 'were', 'imprisoned']), (0.04783203929074689, ['The', 'classrooms,', 'laboratories,', 'and', 'the', 'administrative', 'office', 'were', 'housed', 'in', 'the', 'historic', 'building', 'of', 'the', 'Hijli', 'Detention', 'Camp', '(now', 'known', 'as', 'Shaheed', 'Bhawan),', 'where', 'political', 'revolutionaries', 'were', 'imprisoned', 'during', 'the', 'period', 'of', 'British', 'colonial', 'rule']), (0.04656135333571855, ['When', 'the', 'first', 'session', 'started', 'in', 'August', '1951,', 'there', 'were', '224', 'students', 'and', '42', 'teachers', 'in', 'the', 'ten', 'departments', 'of', 'the', 'institute']), (0.03518764865888735, ['In', '1946,', 'a', 'committee', 'led', 'by', 'Sir', 'Jogendra', 'Singh,', 'a', 'Member', 'of', 'the', \"Viceroy's\", 'executive', 'council,', 'considered', 'the', 'creation', 'of', 'higher', 'technical', 'institutions', '\"for', 'post-World', 'War', 'II', 'industrial', 'development', 'of', 'India\"']), (0.028040617580887814, ['IIT', 'Kharagpur', 'has', 'an', '8.7-square-kilometer', '(2,100-acre)', 'campus', 'and', 'has', 'about', '22,000', 'residents']), (0.024281894175250302, ['The', 'report', 'urged', 'that', 'work', 'should', 'start', 'with', 'the', 'speedy', 'establishment', 'of', 'major', 'institutions', 'in', 'the', 'four-quarters', 'of', 'the', 'country', 'with', 'the', 'ones', 'in', 'the', 'east', 'and', 'the', 'west', 'to', 'be', 'set', 'up', 'immediately']), (0.023498862434144258, ['It', 'was', 'located', 'in', 'Esplanade', 'East,', 'Calcutta,', 'and', 'in', 'September', '1950', 'shifted', 'to', 'its', 'permanent', 'campus', 'at', 'Hijli,', 'Kharagpur', '120', 'kilometers', 'south-west', 'of', 'Kolkata', '(formerly', 'called', 'Calcutta)']), (0.01996792443499175, ['This', 'was', 'followed', 'by', 'the', 'creation', 'of', 'a', '22-member', 'committee', 'headed', 'by', 'Nalini', 'Ranjan', 'Sarkar']), (0.019331918907662754, ['The', 'office', 'building', 'had', 'served', 'as', 'the', 'headquarters', 'of', 'the', 'Bomber', 'Command', 'of', 'the', 'U.S']), (0.008264462809917356, ['However,', 'over', 'the', 'years,', 'the', \"institute's\", 'academic', 'capabilities', 'diversified', 'with', 'offerings', 'in', 'management,', 'law,', 'architecture,', 'humanities,', 'etc'])]\n"
          ]
        }
      ]
    }
  ]
}